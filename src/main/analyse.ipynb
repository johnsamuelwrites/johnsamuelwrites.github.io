{
 "cells": [
  {
   "cell_type": "markdown",
   "id": "0c7ab5c7-f281-4552-9c94-e41f9384c741",
   "metadata": {},
   "source": [
    "# Analyses Report Notebook"
   ]
  },
  {
   "cell_type": "markdown",
   "id": "543d5a68-c3a4-4e76-9380-7822b86818e8",
   "metadata": {},
   "source": [
    "## Importing necessary packages"
   ]
  },
  {
   "cell_type": "code",
   "execution_count": null,
   "id": "bc0e4b12-1d23-425d-bcb5-9737e7c8e0b3",
   "metadata": {},
   "outputs": [],
   "source": [
    "from analyse import HTMLTextAnalysis, WebsiteAnalysis\n",
    "import pandas"
   ]
  },
  {
   "cell_type": "markdown",
   "id": "4cefb181-0b4d-4638-9843-b8b64dc121dc",
   "metadata": {},
   "source": [
    "## Create dataframe of complelte article list"
   ]
  },
  {
   "cell_type": "code",
   "execution_count": null,
   "id": "5adee351-5c47-474c-9726-dc37919f5040",
   "metadata": {},
   "outputs": [],
   "source": [
    "article_list_df = WebsiteAnalysis.get_articles_list_dataframe(\"../../\")"
   ]
  },
  {
   "cell_type": "code",
   "execution_count": null,
   "id": "481df64d-4c90-4fc3-b856-f78e7da0f2ed",
   "metadata": {},
   "outputs": [],
   "source": [
    "article_list_df"
   ]
  },
  {
   "cell_type": "code",
   "execution_count": null,
   "id": "a5ab3966-0fbf-4395-8cfa-a13992a3296c",
   "metadata": {},
   "outputs": [],
   "source": [
    "article_list_df.sort_values([\"latest\"], ascending=False).head(10)"
   ]
  },
  {
   "cell_type": "code",
   "execution_count": null,
   "id": "3ac3ec21-1381-4585-a1c6-ffdcfeaa45e4",
   "metadata": {},
   "outputs": [],
   "source": [
    "lang_df = article_list_df[article_list_df[\"language\"] == \"en\"].head(10)\n",
    "lang_df"
   ]
  },
  {
   "cell_type": "markdown",
   "id": "bec4349f-d177-4046-b5f8-1bc55df09d72",
   "metadata": {},
   "source": [
    "## Get all the tokens/words from all the articles"
   ]
  },
  {
   "cell_type": "code",
   "execution_count": null,
   "id": "7ff741b1-1a87-4bee-b070-debbfa753ef7",
   "metadata": {},
   "outputs": [],
   "source": [
    "token_filepath_set = set()\n",
    "for index, row in article_list_df.iterrows():\n",
    "    tokens = HTMLTextAnalysis.get_tokens(row[\"filepath\"], lowercase=True, remove_punctuation=True, remove_stopwords=True)\n",
    "    for token in tokens:\n",
    "        token_filepath_set.add((token[0], token, row[\"language\"], row[\"filepath\"]))\n"
   ]
  },
  {
   "cell_type": "code",
   "execution_count": null,
   "id": "755cb9b0-af61-4cf4-8b49-3dd77af6230b",
   "metadata": {},
   "outputs": [],
   "source": [
    "tf = pandas.DataFrame(\n",
    "            token_filepath_set, columns=[\"first_char\", \"token\", \"language\", \"filepath\"]\n",
    ")\n"
   ]
  },
  {
   "cell_type": "code",
   "execution_count": null,
   "id": "33833864-54a0-4ddc-bc32-415efa160358",
   "metadata": {},
   "outputs": [],
   "source": [
    "len(tf[\"token\"].unique())"
   ]
  },
  {
   "cell_type": "markdown",
   "id": "55e12016-15ff-436b-a9b8-c59fbcf41cf3",
   "metadata": {},
   "source": [
    "## Language Statistics "
   ]
  },
  {
   "cell_type": "markdown",
   "id": "76c208b6-00c3-4643-9728-640abd3f351a",
   "metadata": {},
   "source": [
    "### Number of articles in each language"
   ]
  },
  {
   "cell_type": "code",
   "execution_count": null,
   "id": "3856e124-217b-45d1-9dea-873e5b00288c",
   "metadata": {},
   "outputs": [],
   "source": [
    "lang_articles = tf[[\"language\", \"filepath\"]]\n",
    "lang_articles = lang_articles.drop_duplicates()\n",
    "lang_articles.groupby([\"language\"]).count()"
   ]
  },
  {
   "cell_type": "code",
   "execution_count": null,
   "id": "70b5a95e-6750-4cbe-8e2f-e5deaa1cc141",
   "metadata": {},
   "outputs": [],
   "source": [
    "lang_articles_count = lang_articles.groupby([\"language\"]).count()\n",
    "lang_articles_count = count.reset_index()"
   ]
  },
  {
   "cell_type": "markdown",
   "id": "558e1080-6d92-43db-99c2-b8484e060ff9",
   "metadata": {},
   "source": [
    "### Number of distinct words in each language"
   ]
  },
  {
   "cell_type": "code",
   "execution_count": null,
   "id": "22ee21dd-bbb3-42bf-aac7-0129bbd409f7",
   "metadata": {},
   "outputs": [],
   "source": [
    "lang_words = tf[[\"language\", \"token\"]]\n",
    "lang_words = lang_words.drop_duplicates()\n",
    "lang_words_count = lang_words.groupby([\"language\"]).count()\n",
    "lang_words_count = lang_words_count.reset_index()\n",
    "lang_words_count"
   ]
  },
  {
   "cell_type": "markdown",
   "id": "21d84cd2-26ef-4a87-97f1-7df5879a82c4",
   "metadata": {},
   "source": [
    "### Distinct first characters"
   ]
  },
  {
   "cell_type": "code",
   "execution_count": null,
   "id": "e31d95b4-5cc5-4911-a10f-a31d265840d8",
   "metadata": {},
   "outputs": [],
   "source": [
    "first_char_words = tf[[\"first_char\", \"token\"]]\n",
    "first_char_words = first_char_words.drop_duplicates()\n",
    "first_char_words.groupby([\"first_char\"]).count()"
   ]
  },
  {
   "cell_type": "markdown",
   "id": "6ff968cb-2fae-4d6b-9db1-67afdb9bd7f8",
   "metadata": {},
   "source": [
    "### Overall occurence of words in the articles"
   ]
  },
  {
   "cell_type": "markdown",
   "id": "e62cd542-8f05-48d8-8ea2-ce86c1c3bc01",
   "metadata": {},
   "source": [
    "Note: Only one occurence in an article is considered"
   ]
  },
  {
   "cell_type": "code",
   "execution_count": null,
   "id": "14c4a4b5-9142-499c-ae6e-87cf0ca3c9cc",
   "metadata": {},
   "outputs": [],
   "source": [
    "word_filepath = tf[[\"token\", \"first_char\", \"filepath\"]]\n",
    "word_filepath= word_filepath.drop_duplicates()\n",
    "word_filepath.groupby([\"token\"])[\"token\"].count()"
   ]
  },
  {
   "cell_type": "code",
   "execution_count": null,
   "id": "5b89194f-1dd5-49b1-91b5-709d8956af54",
   "metadata": {},
   "outputs": [],
   "source": [
    "languages ={\"en\": \"English\", \"fr\": \"French\", \"ml\": \"Malayalam\", \"pa\": \"Punjabi\", \"hi\": \"Hindi\"}\n",
    "with open(\"../../templates/report.html\", \"r\") as blogtemplate:\n",
    "    content = blogtemplate.read()\n",
    "    for code, name in languages.items():\n",
    "        content = content.replace(name + \"Articles\", str(lang_articles_count[lang_articles_count[\"language\"] == code][\"filepath\"].values[0]))\n",
    "    for code, name in languages.items():\n",
    "        content = content.replace(name + \"Words\", str(lang_words_count[lang_words_count[\"language\"] == code][\"token\"].values[0]))\n",
    "    with open(\"../../blog/report.html\", \"w\") as blog:\n",
    "        blog.write(content)\n",
    "    blog.close()\n",
    "blogtemplate.close()\n"
   ]
  },
  {
   "cell_type": "code",
   "execution_count": null,
   "id": "8afff1d9-d4d6-422d-9b87-4920ae04335e",
   "metadata": {},
   "outputs": [],
   "source": [
    "tf = tf.sort_values([\"first_char\", \"token\"])\n",
    "tf.to_csv(\"test.csv\", index=False)"
   ]
  },
  {
   "cell_type": "code",
   "execution_count": null,
   "id": "87d10f75-67b3-4696-9e05-e1da1f77a9fd",
   "metadata": {},
   "outputs": [],
   "source": [
    "word_filepath_list = word_filepath.sort_values([\"first_char\", \"token\"])\n",
    "word_filepath_list.to_html(\"test.html\", index=False)"
   ]
  }
 ],
 "metadata": {
  "kernelspec": {
   "display_name": "Python 3",
   "language": "python",
   "name": "python3"
  },
  "language_info": {
   "codemirror_mode": {
    "name": "ipython",
    "version": 3
   },
   "file_extension": ".py",
   "mimetype": "text/x-python",
   "name": "python",
   "nbconvert_exporter": "python",
   "pygments_lexer": "ipython3",
   "version": "3.10.6"
  }
 },
 "nbformat": 4,
 "nbformat_minor": 5
}
