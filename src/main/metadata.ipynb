{
 "cells": [
  {
   "cell_type": "markdown",
   "id": "0c7ab5c7-f281-4552-9c94-e41f9384c741",
   "metadata": {},
   "source": [
    "# Analyses Report Notebook"
   ]
  },
  {
   "cell_type": "markdown",
   "id": "543d5a68-c3a4-4e76-9380-7822b86818e8",
   "metadata": {},
   "source": [
    "## Importing necessary packages"
   ]
  },
  {
   "cell_type": "code",
   "execution_count": null,
   "id": "bc0e4b12-1d23-425d-bcb5-9737e7c8e0b3",
   "metadata": {},
   "outputs": [],
   "source": [
    "from analyse import HTMLTextAnalysis, WebsiteAnalysis\n",
    "from metadata import get_title_from_link, replace_name\n",
    "import pandas"
   ]
  },
  {
   "cell_type": "markdown",
   "id": "4cefb181-0b4d-4638-9843-b8b64dc121dc",
   "metadata": {},
   "source": [
    "## Create dataframe of complelte article list"
   ]
  },
  {
   "cell_type": "code",
   "execution_count": null,
   "id": "5adee351-5c47-474c-9726-dc37919f5040",
   "metadata": {},
   "outputs": [],
   "source": [
    "article_list_df = WebsiteAnalysis.get_articles_list_dataframe(\"../../\")"
   ]
  },
  {
   "cell_type": "code",
   "execution_count": null,
   "id": "481df64d-4c90-4fc3-b856-f78e7da0f2ed",
   "metadata": {},
   "outputs": [],
   "source": []
  },
  {
   "cell_type": "code",
   "execution_count": null,
   "id": "a5ab3966-0fbf-4395-8cfa-a13992a3296c",
   "metadata": {},
   "outputs": [],
   "source": [
    "article_list_df.sort_values([\"first\"], ascending=False).head(10)"
   ]
  },
  {
   "cell_type": "code",
   "execution_count": null,
   "id": "3ac3ec21-1381-4585-a1c6-ffdcfeaa45e4",
   "metadata": {},
   "outputs": [],
   "source": [
    "lang_df = article_list_df[\n",
    "    (article_list_df[\"language\"] == \"en\")\n",
    "    & (article_list_df[\"filepath\"].str.contains(\"teaching\"))\n",
    "]\n",
    "lang_df"
   ]
  },
  {
   "cell_type": "code",
   "execution_count": null,
   "id": "40b3cf73-8730-4d6d-b46a-8123427ca22b",
   "metadata": {},
   "outputs": [],
   "source": [
    "# lang_df[\"title\"] = lang_df.filepath.apply(get_title)\n",
    "lang_df = lang_df.assign(title=lang_df[\"filepath\"].apply(get_title_from_link))\n",
    "lang_df.sort_values([\"first\"], ascending=False)"
   ]
  },
  {
   "cell_type": "code",
   "execution_count": null,
   "id": "89029324-d905-4ef3-bf89-5ba62fa5702c",
   "metadata": {},
   "outputs": [],
   "source": [
    "from datetime import datetime\n",
    "\n",
    "lang_df = lang_df.assign(created=lang_df[\"first\"].apply(datetime.fromtimestamp))\n",
    "lang_df"
   ]
  },
  {
   "cell_type": "code",
   "execution_count": null,
   "id": "5dada63d-745c-4d6d-9478-d5a3f08da532",
   "metadata": {},
   "outputs": [],
   "source": [
    "sorted_lang_df = lang_df.sort_values([\"first\"], ascending=True)\n",
    "sorted_lang_df"
   ]
  },
  {
   "cell_type": "code",
   "execution_count": null,
   "id": "77ef428e-7642-486d-9a4f-2eb589ff8b62",
   "metadata": {},
   "outputs": [],
   "source": [
    "sorted_lang_df.to_csv(\n",
    "    \"output.csv\", index=False, columns=[\"filepath\", \"title\", \"created\"], sep=\";\"\n",
    ")"
   ]
  }
 ],
 "metadata": {
  "kernelspec": {
   "display_name": "Python 3 (ipykernel)",
   "language": "python",
   "name": "python3"
  },
  "language_info": {
   "codemirror_mode": {
    "name": "ipython",
    "version": 3
   },
   "file_extension": ".py",
   "mimetype": "text/x-python",
   "name": "python",
   "nbconvert_exporter": "python",
   "pygments_lexer": "ipython3",
   "version": "3.10.6"
  }
 },
 "nbformat": 4,
 "nbformat_minor": 5
}
