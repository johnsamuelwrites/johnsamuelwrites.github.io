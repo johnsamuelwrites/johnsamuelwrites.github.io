{
 "cells": [
  {
   "cell_type": "markdown",
   "id": "a1f411f1-9d7a-469a-b50a-c421077fb10d",
   "metadata": {},
   "source": [
    "# Analyses Report Notebook"
   ]
  },
  {
   "cell_type": "markdown",
   "id": "47d975ca-05c4-40a0-be0b-9842b8b942da",
   "metadata": {},
   "source": [
    "## Installing and importing necessary packages"
   ]
  },
  {
   "cell_type": "code",
   "execution_count": null,
   "id": "c01ff3e2-9921-4557-9531-3d5052735e46",
   "metadata": {},
   "outputs": [],
   "source": [
    "!pip install extruct"
   ]
  },
  {
   "cell_type": "code",
   "execution_count": 2,
   "id": "82ee0e8e-e313-4460-8e53-e6eb7c27fcf1",
   "metadata": {},
   "outputs": [],
   "source": [
    "from analyse import HTMLTextAnalysis, WebsiteAnalysis\n",
    "from metadata import get_title_from_link, replace_name\n",
    "from datetime import datetime\n",
    "import urllib.request\n",
    "import urllib.parse\n",
    "import json\n",
    "import pandas as pd\n",
    "import re"
   ]
  },
  {
   "cell_type": "markdown",
   "id": "af1e60f2-8282-4684-8fce-5cc60c643c22",
   "metadata": {},
   "source": [
    "## Create dataframe of complete article list"
   ]
  },
  {
   "cell_type": "code",
   "execution_count": null,
   "id": "bdea70f1-fc4a-4c66-a64b-5273bebcb655",
   "metadata": {},
   "outputs": [],
   "source": [
    "article_list_df = WebsiteAnalysis.get_articles_list_dataframe(\"../../\")"
   ]
  },
  {
   "cell_type": "code",
   "execution_count": null,
   "id": "842f4526-3868-4155-89c8-3c248a55fc76",
   "metadata": {},
   "outputs": [],
   "source": [
    "article_list_df.sort_values([\"first\"], ascending=False).head(10)"
   ]
  },
  {
   "cell_type": "code",
   "execution_count": null,
   "id": "5c067b41-36f8-426c-9d79-01dd58ee3051",
   "metadata": {},
   "outputs": [],
   "source": [
    "article_list_df"
   ]
  },
  {
   "cell_type": "markdown",
   "id": "cdc1ebd4-7e7e-49a2-88ba-18c47fbe11ee",
   "metadata": {},
   "source": [
    "### Filter out specific articles"
   ]
  },
  {
   "cell_type": "code",
   "execution_count": null,
   "id": "b4937bf2-3a15-4c02-b385-ff9624c8cc85",
   "metadata": {},
   "outputs": [],
   "source": [
    "lang_df = article_list_df[\n",
    "    (article_list_df[\"language\"] == \"en\")\n",
    "    & (article_list_df[\"filepath\"].str.contains(\"teaching\"))\n",
    "]\n",
    "lang_df"
   ]
  },
  {
   "cell_type": "code",
   "execution_count": null,
   "id": "117afb6e-b8d1-4b43-bfe4-febf29724c56",
   "metadata": {},
   "outputs": [],
   "source": [
    "lang_df = article_list_df"
   ]
  },
  {
   "cell_type": "code",
   "execution_count": null,
   "id": "03966382-c1ad-48e5-8049-2f721f89e728",
   "metadata": {},
   "outputs": [],
   "source": [
    "# lang_df[\"title\"] = lang_df.filepath.apply(get_title)\n",
    "lang_df = lang_df.assign(title=lang_df[\"filepath\"].apply(get_title_from_link))\n",
    "lang_df.sort_values([\"first\"], ascending=False)"
   ]
  },
  {
   "cell_type": "markdown",
   "id": "39a5bfa3-14d7-4105-9170-7dc032408967",
   "metadata": {},
   "source": [
    "## Get current titles of the articles"
   ]
  },
  {
   "cell_type": "code",
   "execution_count": null,
   "id": "8e1a8ed3-c585-44f9-8319-df616d3ecbb2",
   "metadata": {},
   "outputs": [],
   "source": [
    "lang_df = lang_df.assign(created=lang_df[\"first\"].apply(datetime.fromtimestamp))\n",
    "lang_df"
   ]
  },
  {
   "cell_type": "code",
   "execution_count": null,
   "id": "080cdce2-a325-4105-b83a-94dbe64dfcca",
   "metadata": {},
   "outputs": [],
   "source": [
    "sorted_lang_df = lang_df.sort_values([\"first\"], ascending=True)\n",
    "sorted_lang_df"
   ]
  },
  {
   "cell_type": "code",
   "execution_count": null,
   "id": "1101a311-274a-463f-a02f-a070948b8815",
   "metadata": {},
   "outputs": [],
   "source": [
    "sorted_lang_df.to_csv(\n",
    "    \"output.csv\", index=False, columns=[\"filepath\", \"title\", \"created\"], sep=\";\"\n",
    ")"
   ]
  },
  {
   "cell_type": "markdown",
   "id": "7fd50857-cdd8-4901-93bc-00e5cef4ee32",
   "metadata": {},
   "source": [
    "## Helper functions for Querying Wikibase"
   ]
  },
  {
   "cell_type": "code",
   "execution_count": 3,
   "id": "23695b96-d7e1-4693-8bb6-940048812ee9",
   "metadata": {},
   "outputs": [],
   "source": [
    "def quote_query(query):\n",
    "    query = urllib.parse.quote(query, safe=\"\")\n",
    "    return query"
   ]
  },
  {
   "cell_type": "code",
   "execution_count": 4,
   "id": "73ecb65e-6e54-4f14-85e4-f6841a5b2866",
   "metadata": {},
   "outputs": [],
   "source": [
    "def query_wikibase(query):\n",
    "    url = \"https://jsamwrites.wikibase.cloud/query/sparql?format=json&query=\"+ quote_query(query)\n",
    "    response = urllib.request.urlopen(url)\n",
    "    responsedata = json.loads(response.read().decode(\"utf-8\"))\n",
    "    \n",
    "    array = []\n",
    "    for data in responsedata[\"results\"][\"bindings\"]:\n",
    "        array.append([data[\"item\"][\"value\"], data[\"title\"][\"value\"], data[\"url\"][\"value\"]])\n",
    "    \n",
    "    wikibase_dataframe = pd.DataFrame(array, columns=[\"item\", \"title\", \"url\"])\n",
    "    return wikibase_dataframe"
   ]
  },
  {
   "cell_type": "code",
   "execution_count": 5,
   "id": "85e5a6c7-c370-41e9-97b6-667681da2ba1",
   "metadata": {},
   "outputs": [],
   "source": [
    "def query_wikibase(query, columns):\n",
    "    url = \"https://jsamwrites.wikibase.cloud/query/sparql?format=json&query=\"+ quote_query(query)\n",
    "    response = urllib.request.urlopen(url)\n",
    "    responsedata = json.loads(response.read().decode(\"utf-8\"))\n",
    "    \n",
    "    array = []\n",
    "    for data in responsedata[\"results\"][\"bindings\"]:\n",
    "        row = []\n",
    "        for column in columns:\n",
    "            row.append(data[column][\"value\"])\n",
    "        array.append(row)\n",
    "    \n",
    "    wikibase_dataframe = pd.DataFrame(array, columns=columns)\n",
    "    return wikibase_dataframe"
   ]
  },
  {
   "cell_type": "markdown",
   "id": "17b58dbf-02b5-42b0-9b2c-90462a86cfde",
   "metadata": {},
   "source": [
    "## SPARQL query for getting the existing article list from Wikibase"
   ]
  },
  {
   "cell_type": "code",
   "execution_count": null,
   "id": "2110c9e7-52de-4095-a616-00d4c38b0eea",
   "metadata": {},
   "outputs": [],
   "source": [
    "query = \"\"\"PREFIX wd: <https://jsamwrites.wikibase.cloud/entity/>\n",
    "PREFIX wdt: <https://jsamwrites.wikibase.cloud/prop/direct/>\n",
    "\n",
    "SELECT DISTINCT ?item ?title ?url{\n",
    "  ?item wdt:P3 ?url;\n",
    "        wdt:P27 ?title;\n",
    "        wdt:P10 ?time.\n",
    "}\n",
    "ORDER by ?time\"\"\"\n",
    "\n",
    "wikibase_dataframe = query_wikibase(query)\n",
    "wikibase_dataframe"
   ]
  },
  {
   "cell_type": "markdown",
   "id": "f64289c1-d7a7-48a8-8f92-29d1b41b2142",
   "metadata": {},
   "source": [
    "Replace relative filepath with complete URL"
   ]
  },
  {
   "cell_type": "code",
   "execution_count": null,
   "id": "3678ca41-e6c9-4f3c-96f1-f08ebfaceb7a",
   "metadata": {},
   "outputs": [],
   "source": [
    "sorted_lang_df[\"filepath\"].replace(\"\\.\\.\\/\\.\\.\", \"https://johnsamuel.info\",inplace=True,regex=True)\n",
    "sorted_lang_df[\"filepath\"].replace(\" \", \"%20\" ,inplace=True,regex=True)\n",
    "sorted_lang_df[\"filepath\"]"
   ]
  },
  {
   "cell_type": "markdown",
   "id": "a8a61892-d673-4766-9532-92df4b863ec0",
   "metadata": {},
   "source": [
    "## Find the missing articles that are not yet on Wikibase"
   ]
  },
  {
   "cell_type": "code",
   "execution_count": null,
   "id": "a3c6acab-4e5e-4232-982d-53c88354888f",
   "metadata": {},
   "outputs": [],
   "source": [
    "missing_articles = sorted_lang_df[~sorted_lang_df[\"filepath\"].isin(wikibase_dataframe[\"url\"])]\n",
    "missing_articles"
   ]
  },
  {
   "cell_type": "markdown",
   "id": "dfb0b3c8-b491-48bc-a4a9-b997ae6eafd6",
   "metadata": {},
   "source": [
    "### Generate QuickStatements for the missing articles"
   ]
  },
  {
   "cell_type": "code",
   "execution_count": null,
   "id": "365e6de8-8eef-4897-88d3-55f8a030bf60",
   "metadata": {},
   "outputs": [],
   "source": [
    "with open(\"quickstatements.csv\",\"w\") as qw:\n",
    "    for index,article in missing_articles.iterrows():\n",
    "        qw.write(\"CREATE\\n\")\n",
    "        qw.write('LAST|Den|\"web page\"\\n')\n",
    "        qw.write('LAST|Dfr|\"page web\"\\n')\n",
    "        qw.write(f\"LAST|L{article['language']}|\\\"{article['title']}\\\"\\n\")\n",
    "        qw.write(f\"LAST|P27|{article['language']}:\\\"{article['title']}\\\"\\n\")\n",
    "        qw.write(\"LAST|P17|Q48\\n\")\n",
    "        qw.write(\"LAST|P8|Q45\\n\")\n",
    "        qw.write(f\"LAST|P3|\\\"{re.sub(' ', '%20', str(article['filepath']))}\\\"\\n\")\n",
    "        qw.write(\"LAST|P13|Q1041\\n\")\n",
    "        qw.write(\"LAST|P15|Q38\\n\")\n",
    "        qw.write(f\"LAST|P10|+{re.sub(r' ..:..:..','T00:00:00', str(article['created']))}Z/11\\n\\n\")"
   ]
  },
  {
   "cell_type": "markdown",
   "id": "e241102b-b41a-40b4-b42b-d8e084f6f47a",
   "metadata": {},
   "source": [
    "## Verification of the titles\n",
    "Verify whether the titles on the Wikibase are the same as those right now"
   ]
  },
  {
   "cell_type": "code",
   "execution_count": null,
   "id": "a9a10608-7428-4729-b0fa-d3e8042b9921",
   "metadata": {},
   "outputs": [],
   "source": [
    "query = \"\"\"PREFIX wd: <https://jsamwrites.wikibase.cloud/entity/>\n",
    "PREFIX wdt: <https://jsamwrites.wikibase.cloud/prop/direct/>\n",
    "\n",
    "SELECT DISTINCT ?item ?title ?url{\n",
    "  ?item wdt:P3 ?url;\n",
    "        wdt:P27 ?title;\n",
    "        wdt:P10 ?time.\n",
    "}\n",
    "ORDER by ?time\"\"\"\n",
    "\n",
    "wikibase_dataframe = query_wikibase(query)\n",
    "wikibase_dataframe\n",
    "\n",
    "sorted_lang_df[\"filepath\"].replace(\"\\.\\.\\/\\.\\.\", \"https://johnsamuel.info\",inplace=True,regex=True)\n",
    "sorted_lang_df[\"filepath\"].replace(\" \", \"%20\" ,inplace=True,regex=True)"
   ]
  },
  {
   "cell_type": "code",
   "execution_count": null,
   "id": "f8858eb4-9b3b-4899-bf96-928a10c2d15a",
   "metadata": {},
   "outputs": [],
   "source": [
    "stale_title_list = []\n",
    "for index,article in wikibase_dataframe.iterrows():\n",
    "    url = article[\"url\"]\n",
    "    wikibase_article = sorted_lang_df[sorted_lang_df[\"filepath\"]==url]\n",
    "    wikibase_title = wikibase_article[\"title\"]\n",
    "    if len(wikibase_title) > 0:\n",
    "        wikibase_title = wikibase_title.values[0]\n",
    "        if(wikibase_title != str(article[\"title\"])):\n",
    "            print(\"Incorrect\", wikibase_title, str(article[\"title\"]))\n",
    "            stale_title_list.append((article[\"item\"].replace(\"https://jsamwrites.wikibase.cloud/entity/\", \"\"), str(wikibase_article[\"title\"].values[0]), str(wikibase_article[\"language\"].values[0])))\n",
    "    else:\n",
    "        #pass\n",
    "        print(url, wikibase_article)\n"
   ]
  },
  {
   "cell_type": "markdown",
   "id": "5241a46a-2a38-4497-9c0e-f223f7a554bc",
   "metadata": {},
   "source": [
    "## Generate QuickStatements for correcting titles"
   ]
  },
  {
   "cell_type": "code",
   "execution_count": null,
   "id": "6f0fd10a-180e-42f6-9aa2-464ad41116c5",
   "metadata": {},
   "outputs": [],
   "source": [
    "with open(\"quickstatements.csv\",\"w\") as qw:\n",
    "    for values in stale_title_list:\n",
    "        qw.write(f\"{values[0]}|P27|{values[2]}:\\\"{values[1]}\\\"\\n\")"
   ]
  },
  {
   "cell_type": "markdown",
   "id": "11430732-882b-4f32-9cb3-e2c854564300",
   "metadata": {},
   "source": [
    "### Generate QuickStatements for missing information"
   ]
  },
  {
   "cell_type": "markdown",
   "id": "58bf81da-a053-487c-a503-85fb1492b782",
   "metadata": {},
   "source": [
    "#### File format"
   ]
  },
  {
   "cell_type": "code",
   "execution_count": null,
   "id": "53959437-57ad-4024-aab2-45d4709c42ac",
   "metadata": {},
   "outputs": [],
   "source": [
    "query = \"\"\"PREFIX wd: <https://jsamwrites.wikibase.cloud/entity/>\n",
    "PREFIX wdt: <https://jsamwrites.wikibase.cloud/prop/direct/>\n",
    "\n",
    "SELECT DISTINCT ?item {\n",
    "  ?item wdt:P8 wd:Q45.\n",
    "  FILTER NOT EXISTS {?item wdt:P13 []}\n",
    "}\"\"\"\n",
    "\n",
    "wikibase_dataframe = query_wikibase(query, columns=[\"item\"])\n",
    "wikibase_dataframe"
   ]
  },
  {
   "cell_type": "code",
   "execution_count": null,
   "id": "f02a1491-a8c2-430c-bac8-a124fa615e7f",
   "metadata": {},
   "outputs": [],
   "source": [
    "with open(\"quickstatements.csv\",\"w\") as qw:\n",
    "    for item in wikibase_dataframe[\"item\"]:\n",
    "        qw.write(f\"{item.replace('https://jsamwrites.wikibase.cloud/entity/', '')}|P13|Q1041\\n\")"
   ]
  },
  {
   "cell_type": "markdown",
   "id": "bea8d894-4a7e-440e-9c89-fd8fc8b15714",
   "metadata": {},
   "source": [
    "#### Creator"
   ]
  },
  {
   "cell_type": "code",
   "execution_count": null,
   "id": "1af35fce-931c-4dc9-a5e9-bd861e3b1122",
   "metadata": {},
   "outputs": [],
   "source": [
    "query = \"\"\"PREFIX wd: <https://jsamwrites.wikibase.cloud/entity/>\n",
    "PREFIX wdt: <https://jsamwrites.wikibase.cloud/prop/direct/>\n",
    "\n",
    "SELECT DISTINCT ?item {\n",
    "  ?item wdt:P8 wd:Q45.\n",
    "  FILTER NOT EXISTS {?item wdt:P15 []}\n",
    "}\"\"\"\n",
    "\n",
    "wikibase_dataframe = query_wikibase(query, columns=[\"item\"])\n",
    "wikibase_dataframe"
   ]
  },
  {
   "cell_type": "code",
   "execution_count": 98,
   "id": "f0a038be-629c-4b0a-bcca-d972ec8f6d76",
   "metadata": {},
   "outputs": [],
   "source": [
    "with open(\"quickstatements.csv\",\"a\") as qw:\n",
    "    for item in wikibase_dataframe[\"item\"]:\n",
    "        qw.write(f\"{item.replace('https://jsamwrites.wikibase.cloud/entity/', '')}|P16|Q1760\\n\")"
   ]
  },
  {
   "cell_type": "code",
   "execution_count": null,
   "id": "d7ced107-3955-41df-86c7-ba4a1c371168",
   "metadata": {},
   "outputs": [],
   "source": []
  },
  {
   "cell_type": "markdown",
   "id": "5e7be717-4353-443b-8921-477da3ea1edd",
   "metadata": {},
   "source": [
    "#### Other possibilities\n",
    "* Language of work (P17)\n",
    "* Creation time (P10)\n",
    "* full work available at URL (P3)\n",
    "* form of creative work (P29)"
   ]
  },
  {
   "cell_type": "markdown",
   "id": "49c5a6d0-ce5a-44a0-a14b-6a71d46390a6",
   "metadata": {},
   "source": [
    "#### Form of creative work"
   ]
  },
  {
   "cell_type": "code",
   "execution_count": 80,
   "id": "2648a226-280a-423b-818c-f18b8e618d57",
   "metadata": {},
   "outputs": [
    {
     "data": {
      "text/html": [
       "<div>\n",
       "<style scoped>\n",
       "    .dataframe tbody tr th:only-of-type {\n",
       "        vertical-align: middle;\n",
       "    }\n",
       "\n",
       "    .dataframe tbody tr th {\n",
       "        vertical-align: top;\n",
       "    }\n",
       "\n",
       "    .dataframe thead th {\n",
       "        text-align: right;\n",
       "    }\n",
       "</style>\n",
       "<table border=\"1\" class=\"dataframe\">\n",
       "  <thead>\n",
       "    <tr style=\"text-align: right;\">\n",
       "      <th></th>\n",
       "      <th>item</th>\n",
       "    </tr>\n",
       "  </thead>\n",
       "  <tbody>\n",
       "    <tr>\n",
       "      <th>0</th>\n",
       "      <td>https://jsamwrites.wikibase.cloud/entity/Q108</td>\n",
       "    </tr>\n",
       "    <tr>\n",
       "      <th>1</th>\n",
       "      <td>https://jsamwrites.wikibase.cloud/entity/Q110</td>\n",
       "    </tr>\n",
       "    <tr>\n",
       "      <th>2</th>\n",
       "      <td>https://jsamwrites.wikibase.cloud/entity/Q112</td>\n",
       "    </tr>\n",
       "    <tr>\n",
       "      <th>3</th>\n",
       "      <td>https://jsamwrites.wikibase.cloud/entity/Q114</td>\n",
       "    </tr>\n",
       "    <tr>\n",
       "      <th>4</th>\n",
       "      <td>https://jsamwrites.wikibase.cloud/entity/Q145</td>\n",
       "    </tr>\n",
       "    <tr>\n",
       "      <th>5</th>\n",
       "      <td>https://jsamwrites.wikibase.cloud/entity/Q191</td>\n",
       "    </tr>\n",
       "    <tr>\n",
       "      <th>6</th>\n",
       "      <td>https://jsamwrites.wikibase.cloud/entity/Q193</td>\n",
       "    </tr>\n",
       "    <tr>\n",
       "      <th>7</th>\n",
       "      <td>https://jsamwrites.wikibase.cloud/entity/Q195</td>\n",
       "    </tr>\n",
       "    <tr>\n",
       "      <th>8</th>\n",
       "      <td>https://jsamwrites.wikibase.cloud/entity/Q297</td>\n",
       "    </tr>\n",
       "    <tr>\n",
       "      <th>9</th>\n",
       "      <td>https://jsamwrites.wikibase.cloud/entity/Q324</td>\n",
       "    </tr>\n",
       "    <tr>\n",
       "      <th>10</th>\n",
       "      <td>https://jsamwrites.wikibase.cloud/entity/Q326</td>\n",
       "    </tr>\n",
       "    <tr>\n",
       "      <th>11</th>\n",
       "      <td>https://jsamwrites.wikibase.cloud/entity/Q402</td>\n",
       "    </tr>\n",
       "    <tr>\n",
       "      <th>12</th>\n",
       "      <td>https://jsamwrites.wikibase.cloud/entity/Q407</td>\n",
       "    </tr>\n",
       "  </tbody>\n",
       "</table>\n",
       "</div>"
      ],
      "text/plain": [
       "                                             item\n",
       "0   https://jsamwrites.wikibase.cloud/entity/Q108\n",
       "1   https://jsamwrites.wikibase.cloud/entity/Q110\n",
       "2   https://jsamwrites.wikibase.cloud/entity/Q112\n",
       "3   https://jsamwrites.wikibase.cloud/entity/Q114\n",
       "4   https://jsamwrites.wikibase.cloud/entity/Q145\n",
       "5   https://jsamwrites.wikibase.cloud/entity/Q191\n",
       "6   https://jsamwrites.wikibase.cloud/entity/Q193\n",
       "7   https://jsamwrites.wikibase.cloud/entity/Q195\n",
       "8   https://jsamwrites.wikibase.cloud/entity/Q297\n",
       "9   https://jsamwrites.wikibase.cloud/entity/Q324\n",
       "10  https://jsamwrites.wikibase.cloud/entity/Q326\n",
       "11  https://jsamwrites.wikibase.cloud/entity/Q402\n",
       "12  https://jsamwrites.wikibase.cloud/entity/Q407"
      ]
     },
     "execution_count": 80,
     "metadata": {},
     "output_type": "execute_result"
    }
   ],
   "source": [
    "query = \"\"\"PREFIX wd: <https://jsamwrites.wikibase.cloud/entity/>\n",
    "PREFIX wdt: <https://jsamwrites.wikibase.cloud/prop/direct/>\n",
    "\n",
    "SELECT DISTINCT ?item ?title ?url{\n",
    "  ?item wdt:P3 ?url;\n",
    "        wdt:P27 ?title.\n",
    "  \n",
    "  FILTER (contains(str(?url), \"enseignement\") && contains(str(?url), \"questions1.html\")).\n",
    "  \n",
    "  FILTER NOT EXISTS {?item wdt:P29 wd:Q1046}\n",
    "\n",
    "}\"\"\"\n",
    "\n",
    "wikibase_dataframe = query_wikibase(query, columns=[\"item\"])\n",
    "wikibase_dataframe"
   ]
  },
  {
   "cell_type": "markdown",
   "id": "e32a68ed-c40e-45a1-951e-d9e07f60b3cd",
   "metadata": {},
   "source": [
    "#### Main subject"
   ]
  },
  {
   "cell_type": "code",
   "execution_count": 97,
   "id": "3ae750ac-8ba1-4fad-befc-db68f7e804d0",
   "metadata": {},
   "outputs": [
    {
     "data": {
      "text/html": [
       "<div>\n",
       "<style scoped>\n",
       "    .dataframe tbody tr th:only-of-type {\n",
       "        vertical-align: middle;\n",
       "    }\n",
       "\n",
       "    .dataframe tbody tr th {\n",
       "        vertical-align: top;\n",
       "    }\n",
       "\n",
       "    .dataframe thead th {\n",
       "        text-align: right;\n",
       "    }\n",
       "</style>\n",
       "<table border=\"1\" class=\"dataframe\">\n",
       "  <thead>\n",
       "    <tr style=\"text-align: right;\">\n",
       "      <th></th>\n",
       "      <th>item</th>\n",
       "    </tr>\n",
       "  </thead>\n",
       "  <tbody>\n",
       "    <tr>\n",
       "      <th>0</th>\n",
       "      <td>https://jsamwrites.wikibase.cloud/entity/Q1472</td>\n",
       "    </tr>\n",
       "    <tr>\n",
       "      <th>1</th>\n",
       "      <td>https://jsamwrites.wikibase.cloud/entity/Q1574</td>\n",
       "    </tr>\n",
       "    <tr>\n",
       "      <th>2</th>\n",
       "      <td>https://jsamwrites.wikibase.cloud/entity/Q1575</td>\n",
       "    </tr>\n",
       "    <tr>\n",
       "      <th>3</th>\n",
       "      <td>https://jsamwrites.wikibase.cloud/entity/Q1576</td>\n",
       "    </tr>\n",
       "    <tr>\n",
       "      <th>4</th>\n",
       "      <td>https://jsamwrites.wikibase.cloud/entity/Q1577</td>\n",
       "    </tr>\n",
       "    <tr>\n",
       "      <th>5</th>\n",
       "      <td>https://jsamwrites.wikibase.cloud/entity/Q1578</td>\n",
       "    </tr>\n",
       "    <tr>\n",
       "      <th>6</th>\n",
       "      <td>https://jsamwrites.wikibase.cloud/entity/Q1579</td>\n",
       "    </tr>\n",
       "    <tr>\n",
       "      <th>7</th>\n",
       "      <td>https://jsamwrites.wikibase.cloud/entity/Q1660</td>\n",
       "    </tr>\n",
       "    <tr>\n",
       "      <th>8</th>\n",
       "      <td>https://jsamwrites.wikibase.cloud/entity/Q1661</td>\n",
       "    </tr>\n",
       "    <tr>\n",
       "      <th>9</th>\n",
       "      <td>https://jsamwrites.wikibase.cloud/entity/Q1381</td>\n",
       "    </tr>\n",
       "    <tr>\n",
       "      <th>10</th>\n",
       "      <td>https://jsamwrites.wikibase.cloud/entity/Q1410</td>\n",
       "    </tr>\n",
       "    <tr>\n",
       "      <th>11</th>\n",
       "      <td>https://jsamwrites.wikibase.cloud/entity/Q1411</td>\n",
       "    </tr>\n",
       "    <tr>\n",
       "      <th>12</th>\n",
       "      <td>https://jsamwrites.wikibase.cloud/entity/Q1412</td>\n",
       "    </tr>\n",
       "    <tr>\n",
       "      <th>13</th>\n",
       "      <td>https://jsamwrites.wikibase.cloud/entity/Q1413</td>\n",
       "    </tr>\n",
       "    <tr>\n",
       "      <th>14</th>\n",
       "      <td>https://jsamwrites.wikibase.cloud/entity/Q1414</td>\n",
       "    </tr>\n",
       "    <tr>\n",
       "      <th>15</th>\n",
       "      <td>https://jsamwrites.wikibase.cloud/entity/Q1415</td>\n",
       "    </tr>\n",
       "    <tr>\n",
       "      <th>16</th>\n",
       "      <td>https://jsamwrites.wikibase.cloud/entity/Q1416</td>\n",
       "    </tr>\n",
       "    <tr>\n",
       "      <th>17</th>\n",
       "      <td>https://jsamwrites.wikibase.cloud/entity/Q1417</td>\n",
       "    </tr>\n",
       "  </tbody>\n",
       "</table>\n",
       "</div>"
      ],
      "text/plain": [
       "                                              item\n",
       "0   https://jsamwrites.wikibase.cloud/entity/Q1472\n",
       "1   https://jsamwrites.wikibase.cloud/entity/Q1574\n",
       "2   https://jsamwrites.wikibase.cloud/entity/Q1575\n",
       "3   https://jsamwrites.wikibase.cloud/entity/Q1576\n",
       "4   https://jsamwrites.wikibase.cloud/entity/Q1577\n",
       "5   https://jsamwrites.wikibase.cloud/entity/Q1578\n",
       "6   https://jsamwrites.wikibase.cloud/entity/Q1579\n",
       "7   https://jsamwrites.wikibase.cloud/entity/Q1660\n",
       "8   https://jsamwrites.wikibase.cloud/entity/Q1661\n",
       "9   https://jsamwrites.wikibase.cloud/entity/Q1381\n",
       "10  https://jsamwrites.wikibase.cloud/entity/Q1410\n",
       "11  https://jsamwrites.wikibase.cloud/entity/Q1411\n",
       "12  https://jsamwrites.wikibase.cloud/entity/Q1412\n",
       "13  https://jsamwrites.wikibase.cloud/entity/Q1413\n",
       "14  https://jsamwrites.wikibase.cloud/entity/Q1414\n",
       "15  https://jsamwrites.wikibase.cloud/entity/Q1415\n",
       "16  https://jsamwrites.wikibase.cloud/entity/Q1416\n",
       "17  https://jsamwrites.wikibase.cloud/entity/Q1417"
      ]
     },
     "execution_count": 97,
     "metadata": {},
     "output_type": "execute_result"
    }
   ],
   "source": [
    "query = \"\"\"PREFIX wd: <https://jsamwrites.wikibase.cloud/entity/>\n",
    "PREFIX wdt: <https://jsamwrites.wikibase.cloud/prop/direct/>\n",
    "\n",
    "SELECT DISTINCT ?item ?title ?url{\n",
    "  ?item wdt:P3 ?url;\n",
    "        wdt:P27 ?title.\n",
    "  \n",
    "  FILTER (contains(str(?url), \"teaching\") && contains(LCASE(str(?title)), \"data science\")).\n",
    "  \n",
    "  FILTER NOT EXISTS {?item wdt:P16 wd:Q1760}.\n",
    "\n",
    "}\"\"\"\n",
    "\n",
    "wikibase_dataframe = query_wikibase(query, columns=[\"item\"])\n",
    "wikibase_dataframe"
   ]
  }
 ],
 "metadata": {
  "kernelspec": {
   "display_name": "Python 3 (ipykernel)",
   "language": "python",
   "name": "python3"
  },
  "language_info": {
   "codemirror_mode": {
    "name": "ipython",
    "version": 3
   },
   "file_extension": ".py",
   "mimetype": "text/x-python",
   "name": "python",
   "nbconvert_exporter": "python",
   "pygments_lexer": "ipython3",
   "version": "3.10.12"
  }
 },
 "nbformat": 4,
 "nbformat_minor": 5
}
